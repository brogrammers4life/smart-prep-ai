{
 "cells": [
  {
   "cell_type": "code",
   "execution_count": 43,
   "metadata": {},
   "outputs": [],
   "source": [
    "import PyPDF2"
   ]
  },
  {
   "cell_type": "code",
   "execution_count": 44,
   "metadata": {},
   "outputs": [],
   "source": [
    "def extract_text_from_pdf(pdf_url):\n",
    "    # Download the PDF content or use your existing method to obtain the PDF content\n",
    "    # For example, you can use requests library to download the PDF content\n",
    "    # response = requests.get(pdf_url)\n",
    "    # pdf_content = response.content\n",
    "\n",
    "    # Create a PdfReader object\n",
    "    pdf_reader = PyPDF2.PdfReader(pdf_url)\n",
    "\n",
    "    extracted_text = \"\"\n",
    "\n",
    "    # Iterate through pages and extract text\n",
    "    for page in pdf_reader.pages:\n",
    "        extracted_text += page.extract_text()\n",
    "\n",
    "    return extracted_text"
   ]
  },
  {
   "cell_type": "code",
   "execution_count": 45,
   "metadata": {},
   "outputs": [],
   "source": [
    "pdf_url='https://drive.google.com/file/d/1RRMFrFFXGVdnGVMJQLw5RMfPztMRlnli/view?usp=sharing'"
   ]
  },
  {
   "cell_type": "code",
   "execution_count": 46,
   "metadata": {},
   "outputs": [
    {
     "ename": "OSError",
     "evalue": "[Errno 22] Invalid argument: 'https://drive.google.com/file/d/1RRMFrFFXGVdnGVMJQLw5RMfPztMRlnli/view?usp=sharing'",
     "output_type": "error",
     "traceback": [
      "\u001b[1;31m---------------------------------------------------------------------------\u001b[0m",
      "\u001b[1;31mOSError\u001b[0m                                   Traceback (most recent call last)",
      "\u001b[1;32mc:\\Users\\Harsh Shetye\\OneDrive\\Desktop\\project_root\\app.ipynb Cell 4\u001b[0m line \u001b[0;36m<cell line: 1>\u001b[1;34m()\u001b[0m\n\u001b[1;32m----> <a href='vscode-notebook-cell:/c%3A/Users/Harsh%20Shetye/OneDrive/Desktop/project_root/app.ipynb#W4sZmlsZQ%3D%3D?line=0'>1</a>\u001b[0m x\u001b[39m=\u001b[39mextract_text_from_pdf(pdf_url)\n",
      "\u001b[1;32mc:\\Users\\Harsh Shetye\\OneDrive\\Desktop\\project_root\\app.ipynb Cell 4\u001b[0m line \u001b[0;36mextract_text_from_pdf\u001b[1;34m(pdf_url)\u001b[0m\n\u001b[0;32m      <a href='vscode-notebook-cell:/c%3A/Users/Harsh%20Shetye/OneDrive/Desktop/project_root/app.ipynb#W4sZmlsZQ%3D%3D?line=0'>1</a>\u001b[0m \u001b[39mdef\u001b[39;00m \u001b[39mextract_text_from_pdf\u001b[39m(pdf_url):\n\u001b[0;32m      <a href='vscode-notebook-cell:/c%3A/Users/Harsh%20Shetye/OneDrive/Desktop/project_root/app.ipynb#W4sZmlsZQ%3D%3D?line=1'>2</a>\u001b[0m     \u001b[39m# Download the PDF content or use your existing method to obtain the PDF content\u001b[39;00m\n\u001b[0;32m      <a href='vscode-notebook-cell:/c%3A/Users/Harsh%20Shetye/OneDrive/Desktop/project_root/app.ipynb#W4sZmlsZQ%3D%3D?line=2'>3</a>\u001b[0m     \u001b[39m# For example, you can use requests library to download the PDF content\u001b[39;00m\n\u001b[1;32m   (...)\u001b[0m\n\u001b[0;32m      <a href='vscode-notebook-cell:/c%3A/Users/Harsh%20Shetye/OneDrive/Desktop/project_root/app.ipynb#W4sZmlsZQ%3D%3D?line=5'>6</a>\u001b[0m \n\u001b[0;32m      <a href='vscode-notebook-cell:/c%3A/Users/Harsh%20Shetye/OneDrive/Desktop/project_root/app.ipynb#W4sZmlsZQ%3D%3D?line=6'>7</a>\u001b[0m     \u001b[39m# Create a PdfReader object\u001b[39;00m\n\u001b[1;32m----> <a href='vscode-notebook-cell:/c%3A/Users/Harsh%20Shetye/OneDrive/Desktop/project_root/app.ipynb#W4sZmlsZQ%3D%3D?line=7'>8</a>\u001b[0m     pdf_reader \u001b[39m=\u001b[39m PyPDF2\u001b[39m.\u001b[39;49mPdfReader(pdf_url)\n\u001b[0;32m     <a href='vscode-notebook-cell:/c%3A/Users/Harsh%20Shetye/OneDrive/Desktop/project_root/app.ipynb#W4sZmlsZQ%3D%3D?line=9'>10</a>\u001b[0m     extracted_text \u001b[39m=\u001b[39m \u001b[39m\"\u001b[39m\u001b[39m\"\u001b[39m\n\u001b[0;32m     <a href='vscode-notebook-cell:/c%3A/Users/Harsh%20Shetye/OneDrive/Desktop/project_root/app.ipynb#W4sZmlsZQ%3D%3D?line=11'>12</a>\u001b[0m     \u001b[39m# Iterate through pages and extract text\u001b[39;00m\n",
      "File \u001b[1;32mc:\\Users\\Harsh Shetye\\AppData\\Local\\Programs\\Python\\Python310\\lib\\site-packages\\PyPDF2\\_reader.py:317\u001b[0m, in \u001b[0;36mPdfReader.__init__\u001b[1;34m(self, stream, strict, password)\u001b[0m\n\u001b[0;32m    311\u001b[0m     logger_warning(\n\u001b[0;32m    312\u001b[0m         \u001b[39m\"\u001b[39m\u001b[39mPdfReader stream/file object is not in binary mode. \u001b[39m\u001b[39m\"\u001b[39m\n\u001b[0;32m    313\u001b[0m         \u001b[39m\"\u001b[39m\u001b[39mIt may not be read correctly.\u001b[39m\u001b[39m\"\u001b[39m,\n\u001b[0;32m    314\u001b[0m         \u001b[39m__name__\u001b[39m,\n\u001b[0;32m    315\u001b[0m     )\n\u001b[0;32m    316\u001b[0m \u001b[39mif\u001b[39;00m \u001b[39misinstance\u001b[39m(stream, (\u001b[39mstr\u001b[39m, Path)):\n\u001b[1;32m--> 317\u001b[0m     \u001b[39mwith\u001b[39;00m \u001b[39mopen\u001b[39;49m(stream, \u001b[39m\"\u001b[39;49m\u001b[39mrb\u001b[39;49m\u001b[39m\"\u001b[39;49m) \u001b[39mas\u001b[39;00m fh:\n\u001b[0;32m    318\u001b[0m         stream \u001b[39m=\u001b[39m BytesIO(fh\u001b[39m.\u001b[39mread())\n\u001b[0;32m    319\u001b[0m \u001b[39mself\u001b[39m\u001b[39m.\u001b[39mread(stream)\n",
      "\u001b[1;31mOSError\u001b[0m: [Errno 22] Invalid argument: 'https://drive.google.com/file/d/1RRMFrFFXGVdnGVMJQLw5RMfPztMRlnli/view?usp=sharing'"
     ]
    }
   ],
   "source": [
    "x=extract_text_from_pdf(pdf_url)"
   ]
  },
  {
   "cell_type": "code",
   "execution_count": null,
   "metadata": {},
   "outputs": [],
   "source": [
    "print(x)"
   ]
  },
  {
   "cell_type": "code",
   "execution_count": null,
   "metadata": {},
   "outputs": [],
   "source": [
    "import os\n",
    "from flask import Flask, request, jsonify\n",
    "from pdf2image import convert_from_path\n",
    "import pytesseract\n",
    "import fitz\n",
    "import requests\n",
    "\n",
    "\n",
    "\n",
    "def extract_text_from_pdf(pdf_url):\n",
    "    # Fetch PDF from URL\n",
    "    response = requests.get(pdf_url)\n",
    "    with open(\"temp.pdf\", \"wb\") as f:\n",
    "        f.write(response.content)\n",
    "\n",
    "    # Convert PDF to images\n",
    "    pdf_document = fitz.open(\"temp.pdf\")\n",
    "    pdf_images = convert_from_path(\"temp.pdf\")\n",
    "\n",
    "    # Perform OCR on each page and extract text\n",
    "    extracted_text = \"\"\n",
    "    for page in pdf_images:\n",
    "        page_text = pytesseract.image_to_string(page)\n",
    "        extracted_text += page_text\n",
    "\n",
    "    # Cleanup temporary files\n",
    "    os.remove(\"temp.pdf\")\n",
    "\n",
    "    return extracted_text\n",
    "\n",
    "pdf_url='https://firebasestorage.googleapis.com/v0/b/oralprep-e19b1.appspot.com/o/marksheets%2Fharsh%20marksheet.pdf?alt=media&token=88028c04-be04-40a8-82af-d9056e4656dc&_gl=1*1j1wxdf*_ga*NTk3NDg4Nzg2LjE2ODk5NjUxNzA.*_ga_CW55HF8NVT*MTY5NjYxMzkzNS42Ni4xLjE2OTY2MTU4MDAuMzkuMC4w'"
   ]
  },
  {
   "cell_type": "code",
   "execution_count": null,
   "metadata": {},
   "outputs": [
    {
     "ename": "AttributeError",
     "evalue": "module 'fitz' has no attribute 'open'",
     "output_type": "error",
     "traceback": [
      "\u001b[1;31m---------------------------------------------------------------------------\u001b[0m",
      "\u001b[1;31mAttributeError\u001b[0m                            Traceback (most recent call last)",
      "\u001b[1;32mc:\\Users\\Harsh Shetye\\OneDrive\\Desktop\\project_root\\app.ipynb Cell 7\u001b[0m line \u001b[0;36m<cell line: 1>\u001b[1;34m()\u001b[0m\n\u001b[1;32m----> <a href='vscode-notebook-cell:/c%3A/Users/Harsh%20Shetye/OneDrive/Desktop/project_root/app.ipynb#W6sZmlsZQ%3D%3D?line=0'>1</a>\u001b[0m extract_text_from_pdf(pdf_url)\n",
      "\u001b[1;32mc:\\Users\\Harsh Shetye\\OneDrive\\Desktop\\project_root\\app.ipynb Cell 7\u001b[0m line \u001b[0;36mextract_text_from_pdf\u001b[1;34m(pdf_url)\u001b[0m\n\u001b[0;32m     <a href='vscode-notebook-cell:/c%3A/Users/Harsh%20Shetye/OneDrive/Desktop/project_root/app.ipynb#W6sZmlsZQ%3D%3D?line=13'>14</a>\u001b[0m     f\u001b[39m.\u001b[39mwrite(response\u001b[39m.\u001b[39mcontent)\n\u001b[0;32m     <a href='vscode-notebook-cell:/c%3A/Users/Harsh%20Shetye/OneDrive/Desktop/project_root/app.ipynb#W6sZmlsZQ%3D%3D?line=15'>16</a>\u001b[0m \u001b[39m# Convert PDF to images\u001b[39;00m\n\u001b[1;32m---> <a href='vscode-notebook-cell:/c%3A/Users/Harsh%20Shetye/OneDrive/Desktop/project_root/app.ipynb#W6sZmlsZQ%3D%3D?line=16'>17</a>\u001b[0m pdf_document \u001b[39m=\u001b[39m fitz\u001b[39m.\u001b[39;49mopen(\u001b[39m\"\u001b[39m\u001b[39mtemp.pdf\u001b[39m\u001b[39m\"\u001b[39m)\n\u001b[0;32m     <a href='vscode-notebook-cell:/c%3A/Users/Harsh%20Shetye/OneDrive/Desktop/project_root/app.ipynb#W6sZmlsZQ%3D%3D?line=17'>18</a>\u001b[0m pdf_images \u001b[39m=\u001b[39m convert_from_path(\u001b[39m\"\u001b[39m\u001b[39mtemp.pdf\u001b[39m\u001b[39m\"\u001b[39m)\n\u001b[0;32m     <a href='vscode-notebook-cell:/c%3A/Users/Harsh%20Shetye/OneDrive/Desktop/project_root/app.ipynb#W6sZmlsZQ%3D%3D?line=19'>20</a>\u001b[0m \u001b[39m# Perform OCR on each page and extract text\u001b[39;00m\n",
      "\u001b[1;31mAttributeError\u001b[0m: module 'fitz' has no attribute 'open'"
     ]
    }
   ],
   "source": [
    "extract_text_from_pdf(pdf_url)"
   ]
  },
  {
   "cell_type": "code",
   "execution_count": null,
   "metadata": {},
   "outputs": [],
   "source": [
    "import PyPDF2\n",
    "app = Flask(__name__)\n",
    "\n",
    "\n",
    "\n",
    "def extract_text_from_pdf(pdf_url):\n",
    "    response = requests.get(pdf_url)\n",
    "    with open(\"temp.pdf\", \"wb\") as f:\n",
    "        f.write(response.content)\n",
    "\n",
    "    extracted_text = \"\"\n",
    "    with open(\"temp.pdf\", \"rb\") as pdf_file:\n",
    "        pdf_reader = PyPDF2.PdfReader(pdf_file)\n",
    "        for page_number in range(len(pdf_reader.pages)):\n",
    "            page = pdf_reader.pages[page_number]\n",
    "            extracted_text += page.extract_text()\n",
    "\n",
    "    os.remove(\"temp.pdf\")\n",
    "\n",
    "    return extracted_text"
   ]
  },
  {
   "cell_type": "code",
   "execution_count": null,
   "metadata": {},
   "outputs": [
    {
     "data": {
      "text/plain": [
       "'DIVISION :MUMBAI\\nA221606 801731.01.024 MARCH-2018\\nShetye Harsh Vikas\\nVrunda\\n03ENGLISH (1ST LANG) 100087 EIGHTYSEVEN\\n16MARATHI (2/3 LANG) 100080 EIGHTY\\n15HINDI (2/3 LANG) 100092 NINETYTWO\\n71MATHEMATICS 100098 NINETYEIGHT\\n72SCIENCE & TECHNOLOGY 100096 NINETYSIX\\n73SOCIAL SCIENCES 100098 NINETYEIGHT\\nM7PAPERWORK CARD BRD.& BK BIND *A\\nP1HEALTH & PHYSICAL EDUCATION *A\\nP2SCOUTING/GUIDING *A\\nR6PERSONALITY DEVELOPMENT *A\\n41INFORMATION COMMUNICATION TEC *A\\nPASS95.60500$471+07FOUR HUNDRED AND\\nSEVENTYEIGHT\\nDRAWING\\nNote : 1) This SSC Marksheet is verified by DigiLocker\\n (https://digilocker.gov.in) as per data provided\\nby the issuing authority,MSBSHSE.\\n2) This digitally signed verification document is valid\\nas per the IT Act 2000 when used electronically.\\n'"
      ]
     },
     "execution_count": 19,
     "metadata": {},
     "output_type": "execute_result"
    }
   ],
   "source": [
    "extract_text_from_pdf(pdf_url)"
   ]
  },
  {
   "cell_type": "code",
   "execution_count": 47,
   "metadata": {},
   "outputs": [],
   "source": [
    "data = 'DIVISION :MUMBAI\\nA221606 801731.01.024 MARCH-2018\\nShetye Harsh Vikas\\nVrunda\\n03ENGLISH (1ST LANG) 100087 EIGHTYSEVEN\\n16MARATHI (2/3 LANG) 100080 EIGHTY\\n15HINDI (2/3 LANG) 100092 NINETYTWO\\n71MATHEMATICS 100098 NINETYEIGHT\\n72SCIENCE & TECHNOLOGY 100096 NINETYSIX\\n73SOCIAL SCIENCES 100098 NINETYEIGHT\\nM7PAPERWORK CARD BRD.& BK BIND *A\\nP1HEALTH & PHYSICAL EDUCATION *A\\nP2SCOUTING/GUIDING *A\\nR6PERSONALITY DEVELOPMENT *A\\n41INFORMATION COMMUNICATION TEC *A\\nPASS95.60500$471+07FOUR HUNDRED AND\\nSEVENTYEIGHT\\nDRAWING\\nNote : 1) This SSC Marksheet is verified by DigiLocker\\n (https://digilocker.gov.in) as per data provided\\nby the issuing authority,MSBSHSE.\\n2) This digitally signed verification document is valid\\nas per the IT Act 2000 when used electronically.\\n'"
   ]
  },
  {
   "cell_type": "code",
   "execution_count": null,
   "metadata": {},
   "outputs": [],
   "source": [
    "def classify_subjects(text):\n",
    "    # Split text into lines\n",
    "    lines = text.split(\"\\n\")\n",
    "\n",
    "    # Initialize data structures\n",
    "    student_name = \"\"\n",
    "    strong_subjects = {}\n",
    "    weak_subjects = {}\n",
    "\n",
    "    # Iterate through lines to extract information\n",
    "    for line in lines:\n",
    "        if \"Student Name:\" in line:\n",
    "            student_name = line.split(\"Student Name:\")[1].strip()\n",
    "        elif line.strip():  # Skip empty lines\n",
    "            subject, marks = line.split(\":\")\n",
    "            subject = subject.strip()\n",
    "            marks = marks.strip()\n",
    "\n",
    "            # Classify subjects as strong or weak based on marks\n",
    "            if marks >= 75:\n",
    "                strong_subjects[subject] = marks\n",
    "            else:\n",
    "                weak_subjects[subject] = marks\n",
    "\n",
    "    # Create JSON response\n",
    "    result = {\n",
    "        \"Student Name\": student_name,\n",
    "        \"Strong Subjects\": strong_subjects,\n",
    "        \"Weak Subjects\": weak_subjects,\n",
    "    }\n",
    "\n",
    "    return result"
   ]
  },
  {
   "cell_type": "code",
   "execution_count": 51,
   "metadata": {},
   "outputs": [
    {
     "name": "stdout",
     "output_type": "stream",
     "text": [
      "{\n",
      "    \"Subjects\": [\n",
      "        {\n",
      "            \"Subject\": \"MATHEMATICS\",\n",
      "            \"Marks\": \"100098\"\n",
      "        }\n",
      "    ]\n",
      "}\n"
     ]
    }
   ],
   "source": [
    "import re\n",
    "import json\n",
    "\n",
    "def extract_subjects(data):\n",
    "    # Define regular expressions to match subject information\n",
    "    pattern_subjects = r'(\\d+\\w+)\\s+(\\d+)\\s+(\\w+)'\n",
    "\n",
    "    # Initialize a list to store extracted subject information\n",
    "    subjects_list = []\n",
    "\n",
    "    # Extract Subjects and Marks\n",
    "    subject_matches = re.findall(pattern_subjects, data)\n",
    "    for subject_match in subject_matches:\n",
    "        subject_code = subject_match[0]\n",
    "        # Extract only the subject name without numeric prefix\n",
    "        subject_name = re.sub(r'^\\d+', '', subject_code)\n",
    "        marks = subject_match[1]\n",
    "        subjects_list.append({\n",
    "            \"Subject\": subject_name,\n",
    "            \"Marks\": marks\n",
    "        })\n",
    "\n",
    "    # Create a dictionary with the extracted subject information\n",
    "    extracted_data = {\n",
    "        \"Subjects\": subjects_list\n",
    "    }\n",
    "\n",
    "    # Convert the extracted data to JSON\n",
    "    json_data = json.dumps(extracted_data, indent=4)\n",
    "\n",
    "    return json_data\n",
    "\n",
    "# Example usage:\n",
    "\n",
    "result = extract_subjects(data)\n",
    "print(result)\n"
   ]
  },
  {
   "cell_type": "code",
   "execution_count": null,
   "metadata": {},
   "outputs": [
    {
     "name": "stdout",
     "output_type": "stream",
     "text": [
      "{\n",
      "    \"Division\": null,\n",
      "    \"Roll Number\": null,\n",
      "    \"Date\": null,\n",
      "    \"Student Name\": null,\n",
      "    \"Subjects\": []\n",
      "}\n"
     ]
    }
   ],
   "source": [
    "result = extract_data_to_json(data)\n",
    "print(result)"
   ]
  },
  {
   "cell_type": "code",
   "execution_count": 49,
   "metadata": {},
   "outputs": [],
   "source": [
    "result  = {\n",
    "    \n",
    "    \"Subjects\": [\n",
    "        {\n",
    "            \"Subject\": \"ENGLISH\",\n",
    "            \"Marks\": \"87\"\n",
    "        },\n",
    "        {\n",
    "            \"Subject\": \"MARATHI\",\n",
    "            \"Marks\": \"80\"\n",
    "        },\n",
    "        {\n",
    "            \"Subject\": \"HINDI\",\n",
    "            \"Marks\": \"92\"\n",
    "        },\n",
    "        {\n",
    "            \"Subject\": \"MATHEMATICS\",\n",
    "            \"Marks\": \"98\"\n",
    "        },\n",
    "        {\n",
    "            \"Subject\": \"SCIENCE & TECHNOLOGY\",\n",
    "            \"Marks\": \"96\"\n",
    "        },\n",
    "        {\n",
    "            \"Subject\": \"SOCIAL SCIENCE\",\n",
    "            \"Marks\": \"98\"\n",
    "        }\n",
    "    ]\n",
    "}\n"
   ]
  },
  {
   "cell_type": "code",
   "execution_count": null,
   "metadata": {},
   "outputs": [],
   "source": []
  }
 ],
 "metadata": {
  "kernelspec": {
   "display_name": "Python 3",
   "language": "python",
   "name": "python3"
  },
  "language_info": {
   "codemirror_mode": {
    "name": "ipython",
    "version": 3
   },
   "file_extension": ".py",
   "mimetype": "text/x-python",
   "name": "python",
   "nbconvert_exporter": "python",
   "pygments_lexer": "ipython3",
   "version": "3.10.4"
  }
 },
 "nbformat": 4,
 "nbformat_minor": 2
}
